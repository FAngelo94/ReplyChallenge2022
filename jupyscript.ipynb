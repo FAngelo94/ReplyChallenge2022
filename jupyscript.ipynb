{
 "cells": [
  {
   "cell_type": "code",
   "execution_count": 5,
   "metadata": {},
   "outputs": [
    {
     "name": "stdout",
     "output_type": "stream",
     "text": [
      "total rows file 1 6\n",
      "total rows file 1 1001\n",
      "total rows file 1 3001\n",
      "total rows file 1 500001\n",
      "total rows file 5 3001\n",
      "total rows file 6 100001\n"
     ]
    }
   ],
   "source": [
    "# create function to read all row in 00-example.txt\n",
    "def read_file(filename):\n",
    "    with open(filename) as f:\n",
    "        return f.read().splitlines()\n",
    "\n",
    "file1 = read_file('00-example.txt')\n",
    "print('total rows file 1', len(file1))\n",
    "\n",
    "file2 = read_file('01-the-cloud-abyss.txt')\n",
    "print('total rows file 1', len(file2))\n",
    "\n",
    "file3 = read_file('02-iot-island-of-terror.txt')\n",
    "print('total rows file 1', len(file3))\n",
    "\n",
    "file4 = read_file('03-etheryum.txt')\n",
    "print('total rows file 1', len(file4))\n",
    "\n",
    "file5 = read_file('04-the-desert-of-autonomous-machines.txt')\n",
    "print('total rows file 5', len(file5))\n",
    "\n",
    "file6 = read_file('05-androids-armageddon.txt')\n",
    "print('total rows file 6', len(file6))"
   ]
  },
  {
   "cell_type": "code",
   "execution_count": 4,
   "metadata": {},
   "outputs": [
    {
     "name": "stdout",
     "output_type": "stream",
     "text": [
      "{'Sc': '16', 'Tr': '4', 'Sr': '18', 'Na': '13', 'Fa': ['0', '10', '5', '0', '0', '7', '4', '1', '1', '6', '10', '2', '9']}\n",
      "{'Sc': '2', 'Tr': '1', 'Sr': '11', 'Na': '18', 'Fa': ['0', '6', '1', '7', '3', '4', '7', '0', '5', '7', '9', '5', '6', '3', '9', '9', '0', '5']}\n",
      "{'Sc': '3', 'Tr': '1', 'Sr': '5', 'Na': '15', 'Fa': ['0', '5', '4', '5', '0', '10', '1', '8', '3', '8', '2', '4', '7', '2', '1']}\n",
      "{'Sc': '7', 'Tr': '6', 'Sr': '10', 'Na': '13', 'Fa': ['8', '2', '5', '0', '0', '4', '3', '9', '6', '4', '1', '6', '4']}\n",
      "{'Sc': '17', 'Tr': '5', 'Sr': '7', 'Na': '16', 'Fa': ['5', '1', '4', '5', '1', '8', '9', '10', '9', '7', '2', '8', '9', '7', '3', '10']}\n"
     ]
    }
   ],
   "source": [
    "file = file1\n",
    "row1 = file[0].split(' ')\n",
    "Si = row1[0] # amount of initial stamina\n",
    "Smax = row1[1] # maximum stamina\n",
    "T = row1[2] # turns available\n",
    "D = row1[3] # demons available\n",
    "\n",
    "demons = []\n",
    "for i in range(1, int(D)+1):\n",
    "    row = file[i].split(' ')\n",
    "    d = {}\n",
    "    d['Sc'] = row[0] # stamina cost to face demon\n",
    "    d['Tr'] = row[1] # Turn required to recover stamina\n",
    "    d['Sr'] = row[2] # Stamina recovered by defeating demon\n",
    "    d['Na'] = row[3] # Number of turns you'll earn fragments after defeating demon\n",
    "    d['Fa'] = row[4:] # Fragments earned after defeating demon\n",
    "    print(d)\n",
    "    demons.append(d)"
   ]
  },
  {
   "cell_type": "code",
   "execution_count": 7,
   "metadata": {},
   "outputs": [
    {
     "name": "stderr",
     "output_type": "stream",
     "text": [
      "100%|██████████| 100000000/100000000 [00:11<00:00, 8950250.35it/s]\n"
     ]
    }
   ],
   "source": [
    "'''\n",
    "Create a function to calculate the total fragments earned\n",
    "'''\n",
    "from tqdm import tqdm\n",
    "\n",
    "for i in tqdm(range(100000000)):\n",
    "    # codice del ciclo\n",
    "    pass"
   ]
  }
 ],
 "metadata": {
  "kernelspec": {
   "display_name": "Python 3",
   "language": "python",
   "name": "python3"
  },
  "language_info": {
   "codemirror_mode": {
    "name": "ipython",
    "version": 3
   },
   "file_extension": ".py",
   "mimetype": "text/x-python",
   "name": "python",
   "nbconvert_exporter": "python",
   "pygments_lexer": "ipython3",
   "version": "3.10.10"
  },
  "orig_nbformat": 4,
  "vscode": {
   "interpreter": {
    "hash": "b004e2123e97951a3e61a2cfe69694a146edae6fa94271b2593bf80f9dba4383"
   }
  }
 },
 "nbformat": 4,
 "nbformat_minor": 2
}
